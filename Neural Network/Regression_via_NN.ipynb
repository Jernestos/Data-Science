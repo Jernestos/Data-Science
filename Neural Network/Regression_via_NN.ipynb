{
  "nbformat": 4,
  "nbformat_minor": 0,
  "metadata": {
    "colab": {
      "name": "Regression via NN.ipynb",
      "provenance": []
    },
    "kernelspec": {
      "name": "python3",
      "display_name": "Python 3"
    },
    "language_info": {
      "name": "python"
    }
  },
  "cells": [
    {
      "cell_type": "code",
      "execution_count": null,
      "metadata": {
        "id": "EZnyut8ZvzPa"
      },
      "outputs": [],
      "source": [
        "#Import libraries\n",
        "import numpy as np\n",
        "from numpy import random\n",
        "import math"
      ]
    },
    {
      "cell_type": "code",
      "source": [
        "#Generate dataset\n",
        "\n",
        "n = 20000 #datapoints\n",
        "d = 4 #features\n",
        "x_true = random.normal(size=(n,d), scale=math.pi*2)\n",
        "coef = random.normal(size=(6*d), scale=math.pi*2)\n",
        "\n",
        "def label_computation(arr):\n",
        "  poly = np.dot(arr, coef[:d]) + np.dot(arr**2, coef[d:2*d]) + np.dot(arr**3, coef[2*d:3*d])\n",
        "  trig = np.dot(np.sin(arr), coef[3*d:4*d]) + np.dot(np.cos(arr), coef[4*d:5*d])\n",
        "  exp = np.dot(np.exp(arr), coef[5*d:6*d])\n",
        "  # epsilon = random.normal(scale=100) #random perturbation\n",
        "  return poly# + trig + exp# + epsilon\n",
        "\n",
        "y_labels = np.apply_along_axis(label_computation, 1, x_true)"
      ],
      "metadata": {
        "id": "eOQysrhHv87h"
      },
      "execution_count": null,
      "outputs": []
    },
    {
      "cell_type": "code",
      "source": [
        "#Data preprocessing\n",
        "x_training_data = x_true\n",
        "y_training_label = y_labels"
      ],
      "metadata": {
        "id": "XvhpyApcwHjS"
      },
      "execution_count": null,
      "outputs": []
    },
    {
      "cell_type": "code",
      "source": [
        "#NN\n",
        "from sklearn.neural_network import MLPRegressor\n",
        "from sklearn.model_selection import train_test_split\n",
        "\n",
        "X_train, X_test, y_train, y_test = train_test_split(x_training_data, y_training_label, random_state=42)\n",
        "nn_regr = MLPRegressor(random_state=1, max_iter=10000, tol=1e-5, warm_start=True, early_stopping=True).fit(X_train, y_train)\n",
        "print(nn_regr.predict(X_test[:25]))\n",
        "print(y_test[:25])\n",
        "nn_regr.score(X_test, y_test)"
      ],
      "metadata": {
        "colab": {
          "base_uri": "https://localhost:8080/"
        },
        "id": "9ihppowa1TJF",
        "outputId": "1236390d-c500-4ccf-9003-ee7534ba1d88"
      },
      "execution_count": null,
      "outputs": [
        {
          "output_type": "stream",
          "name": "stdout",
          "text": [
            "[ 9.07286564e+03  2.91109061e+03 -5.20915145e+03  4.18065096e+01\n",
            " -2.13253898e+04  1.78606132e+04  5.63542895e+03 -2.13543985e+04\n",
            " -2.32976709e+03 -3.72634444e+02 -3.36868765e+04 -5.02338001e+03\n",
            " -1.20229771e+04  7.18760587e+03  1.37672584e+03 -4.02760073e+03\n",
            " -1.09204580e+04  1.63284365e+04  3.47869873e+03 -3.82409814e+03\n",
            "  1.02087594e+03  2.90817513e+00  4.74555745e+02  1.75453958e+03\n",
            " -9.26735773e+02]\n",
            "[ 8.83591565e+03  3.07402324e+03 -4.07870397e+03 -3.51270232e+02\n",
            " -2.17459744e+04  1.76212300e+04  5.04664907e+03 -2.11031165e+04\n",
            " -1.16647830e+03  2.56835035e+02 -2.98836867e+04 -5.48683220e+03\n",
            " -1.15962043e+04  7.55707914e+03  8.51587983e+02 -4.41280860e+03\n",
            " -9.54522594e+03  1.62802313e+04  3.33047236e+03 -3.71059423e+03\n",
            "  9.68816431e+02 -2.18760648e+01  7.17836678e+01  2.03868758e+03\n",
            " -1.45278717e+03]\n"
          ]
        },
        {
          "output_type": "execute_result",
          "data": {
            "text/plain": [
              "0.9872501267895825"
            ]
          },
          "metadata": {},
          "execution_count": 6
        }
      ]
    }
  ]
}
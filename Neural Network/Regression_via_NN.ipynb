{
  "nbformat": 4,
  "nbformat_minor": 0,
  "metadata": {
    "colab": {
      "name": "Regression via NN.ipynb",
      "provenance": []
    },
    "kernelspec": {
      "name": "python3",
      "display_name": "Python 3"
    },
    "language_info": {
      "name": "python"
    }
  },
  "cells": [
    {
      "cell_type": "code",
      "execution_count": 9,
      "metadata": {
        "id": "EZnyut8ZvzPa"
      },
      "outputs": [],
      "source": [
        "#Import libraries\n",
        "import numpy as np\n",
        "from numpy import random\n",
        "import math"
      ]
    },
    {
      "cell_type": "code",
      "source": [
        "#Generate dataset\n",
        "\n",
        "n = 20000 #datapoints\n",
        "d = 4 #features\n",
        "x_true = random.normal(size=(n,d), scale=math.pi*2)\n",
        "coef = random.normal(size=(6*d), scale=math.pi*2)\n",
        "\n",
        "def label_computation(arr):\n",
        "  poly = np.dot(arr, coef[:d]) + np.dot(arr**2, coef[d:2*d]) + np.dot(arr**3, coef[2*d:3*d])\n",
        "  trig = np.dot(np.sin(arr), coef[3*d:4*d]) + np.dot(np.cos(arr), coef[4*d:5*d])\n",
        "  exp = np.dot(np.exp(arr), coef[5*d:6*d])\n",
        "  # epsilon = random.normal(scale=100) #random perturbation\n",
        "  return poly# + trig + exp# + epsilon\n",
        "\n",
        "y_labels = np.apply_along_axis(label_computation, 1, x_true)"
      ],
      "metadata": {
        "id": "eOQysrhHv87h"
      },
      "execution_count": 15,
      "outputs": []
    },
    {
      "cell_type": "code",
      "source": [
        "#Data preprocessing\n",
        "x_training_data = x_true\n",
        "y_training_label = y_labels"
      ],
      "metadata": {
        "id": "XvhpyApcwHjS"
      },
      "execution_count": 16,
      "outputs": []
    },
    {
      "cell_type": "code",
      "source": [
        "#NN\n",
        "from sklearn.neural_network import MLPRegressor\n",
        "from sklearn.datasets import make_regression\n",
        "from sklearn.model_selection import train_test_split\n",
        "\n",
        "X_train, X_test, y_train, y_test = train_test_split(x_training_data, y_training_label, random_state=42)\n",
        "nn_regr = MLPRegressor(random_state=1, max_iter=10000, tol=1e-5, warm_start=True, early_stopping=True).fit(X_train, y_train)\n",
        "nn_regr.predict(X_test[:2])\n",
        "nn_regr.score(X_test, y_test)"
      ],
      "metadata": {
        "colab": {
          "base_uri": "https://localhost:8080/"
        },
        "id": "9ihppowa1TJF",
        "outputId": "4b78b8d6-215d-450e-8ac0-ea774f9b495b"
      },
      "execution_count": 17,
      "outputs": [
        {
          "output_type": "execute_result",
          "data": {
            "text/plain": [
              "0.9942631903186284"
            ]
          },
          "metadata": {},
          "execution_count": 17
        }
      ]
    }
  ]
}
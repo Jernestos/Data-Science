{
  "nbformat": 4,
  "nbformat_minor": 0,
  "metadata": {
    "colab": {
      "name": "Multiclass classification via NN.ipynb",
      "provenance": []
    },
    "kernelspec": {
      "name": "python3",
      "display_name": "Python 3"
    },
    "language_info": {
      "name": "python"
    }
  },
  "cells": [
    {
      "cell_type": "code",
      "execution_count": 1,
      "metadata": {
        "id": "QWTYHkbzxbwA"
      },
      "outputs": [],
      "source": [
        "#import libaries\n",
        "import numpy as np\n",
        "from numpy import random\n",
        "import math"
      ]
    },
    {
      "cell_type": "code",
      "source": [
        "#Aux methods:\n",
        "def is_pos_def(x):\n",
        "    return np.all(np.linalg.eigvals(x) > 0)\n",
        "\n",
        "def check_all_matrices(x):\n",
        "  b = True\n",
        "  for m in x:\n",
        "    b = b and is_pos_def(m)\n",
        "    if not b: return False\n",
        "  return b"
      ],
      "metadata": {
        "id": "yBT8mKPe2Pgb"
      },
      "execution_count": 2,
      "outputs": []
    },
    {
      "cell_type": "code",
      "source": [
        "#generate dataset\n",
        "n = 20000 #datapoints\n",
        "d = 3 #dimensions\n",
        "c = 2 #number of clusters\n",
        "\n",
        "def create_cov_matrices(cov_list):\n",
        "  for m in cov_list:\n",
        "    np.fill_diagonal(m, abs(random.normal(size=(d), scale=spread_of_cluster_centre)))\n",
        "\n",
        "def generate_dataset(mean_list, cov_list, n):\n",
        "  x_features = []\n",
        "  y_labels = random.choice(c, n)\n",
        "  for i in range(n):\n",
        "    rand_c = y_labels[i]\n",
        "    mean = mean_list[rand_c]\n",
        "    cov = cov_list[rand_c]\n",
        "    datapoint = np.random.multivariate_normal(mean,cov,(1))\n",
        "    [datapoint] = datapoint\n",
        "    x_features.append(datapoint)\n",
        "  x_features = np.array(x_features)\n",
        "  return (x_features, y_labels)\n",
        "\n",
        "spread_of_cluster_centre = math.pi * 3\n",
        "spread_around_clusters = math.pi * 3\n",
        "cluster_centres = random.normal(size=(c,d), scale=spread_of_cluster_centre, loc=random.normal(spread_around_clusters))\n",
        "# print(cluster_centres)\n",
        "\n",
        "temp = []\n",
        "for c_i in range(c):\n",
        "  temp.append(np.zeros((d,d), float))\n",
        "cov_matrices_list = np.array(temp)\n",
        "# z = np.zeros((d,d), float)\n",
        "# cov_matrices_list = np.repeat(z[:, :, np.newaxis], c, axis=2)\n",
        "# print(cov_matrices_list)\n",
        "create_cov_matrices(cov_matrices_list)\n",
        "\n",
        "# print(check_all_matrices(cov_matrices_list))\n",
        "x_features, y_labels = generate_dataset(cluster_centres, cov_matrices_list, n)\n",
        "\n",
        "# print(cluster_centres)\n",
        "# print()\n",
        "# print(cov_matrices_list)\n",
        "# print()\n",
        "# print(x_features)\n",
        "# print()\n",
        "# print(y_labels)"
      ],
      "metadata": {
        "id": "XT4SlXqa291E"
      },
      "execution_count": 14,
      "outputs": []
    },
    {
      "cell_type": "code",
      "source": [
        "#Data preprocessing\n",
        "x_training_data = x_features\n",
        "y_training_label = y_labels"
      ],
      "metadata": {
        "id": "fZgMHkdz6KPf"
      },
      "execution_count": 16,
      "outputs": []
    },
    {
      "cell_type": "code",
      "source": [
        "#NN\n",
        "from sklearn.neural_network import MLPRegressor\n",
        "from sklearn.datasets import make_regression\n",
        "from sklearn.model_selection import train_test_split\n",
        "\n",
        "X_train, X_test, y_train, y_test = train_test_split(x_training_data, y_training_label, random_state=42)\n",
        "nn_regr.predict(X_test[:2])\n",
        "nn_regr.score(X_test, y_test)"
      ],
      "metadata": {
        "colab": {
          "base_uri": "https://localhost:8080/"
        },
        "id": "g_rON4o03BBk",
        "outputId": "5633b695-8700-4ff4-a056-4ff3523b2e2a"
      },
      "execution_count": 17,
      "outputs": [
        {
          "output_type": "stream",
          "name": "stdout",
          "text": [
            "[8.76720710e-04 9.89764379e-01]\n"
          ]
        },
        {
          "output_type": "execute_result",
          "data": {
            "text/plain": [
              "0.9904032730856063"
            ]
          },
          "metadata": {},
          "execution_count": 17
        }
      ]
    }
  ]
}
{
  "nbformat": 4,
  "nbformat_minor": 0,
  "metadata": {
    "colab": {
      "name": "Multiclass classification via NN.ipynb",
      "provenance": []
    },
    "kernelspec": {
      "name": "python3",
      "display_name": "Python 3"
    },
    "language_info": {
      "name": "python"
    }
  },
  "cells": [
    {
      "cell_type": "code",
      "execution_count": null,
      "metadata": {
        "id": "QWTYHkbzxbwA"
      },
      "outputs": [],
      "source": [
        "#import libaries\n",
        "import numpy as np\n",
        "from numpy import random\n",
        "import math"
      ]
    },
    {
      "cell_type": "code",
      "source": [
        "#Aux methods:\n",
        "def is_pos_def(x):\n",
        "    return np.all(np.linalg.eigvals(x) > 0)\n",
        "\n",
        "def check_all_matrices(x):\n",
        "  b = True\n",
        "  for m in x:\n",
        "    b = b and is_pos_def(m)\n",
        "    if not b: return False\n",
        "  return b"
      ],
      "metadata": {
        "id": "yBT8mKPe2Pgb"
      },
      "execution_count": null,
      "outputs": []
    },
    {
      "cell_type": "code",
      "source": [
        "#generate dataset\n",
        "n = 20000 #datapoints\n",
        "d = 3 #dimensions\n",
        "c = 10 #number of clusters\n",
        "\n",
        "def create_cov_matrices(cov_list):\n",
        "  for m in cov_list:\n",
        "    np.fill_diagonal(m, abs(random.normal(size=(d), scale=spread_of_cluster_centre)))\n",
        "\n",
        "def generate_dataset(mean_list, cov_list, n):\n",
        "  x_features = []\n",
        "  y_labels = random.choice(c, n)\n",
        "  for i in range(n):\n",
        "    rand_c = y_labels[i]\n",
        "    mean = mean_list[rand_c]\n",
        "    cov = cov_list[rand_c]\n",
        "    datapoint = np.random.multivariate_normal(mean,cov,(1))\n",
        "    [datapoint] = datapoint\n",
        "    x_features.append(datapoint)\n",
        "  x_features = np.array(x_features)\n",
        "  return (x_features, y_labels)\n",
        "\n",
        "spread_of_cluster_centre = math.pi * 3\n",
        "spread_around_clusters = math.pi * 3\n",
        "cluster_centres = random.normal(size=(c,d), scale=spread_of_cluster_centre, loc=random.normal(spread_around_clusters))\n",
        "# print(cluster_centres)\n",
        "\n",
        "temp = []\n",
        "for c_i in range(c):\n",
        "  temp.append(np.zeros((d,d), float))\n",
        "cov_matrices_list = np.array(temp)\n",
        "# z = np.zeros((d,d), float)\n",
        "# cov_matrices_list = np.repeat(z[:, :, np.newaxis], c, axis=2)\n",
        "# print(cov_matrices_list)\n",
        "create_cov_matrices(cov_matrices_list)\n",
        "\n",
        "# print(check_all_matrices(cov_matrices_list))\n",
        "x_features, y_labels = generate_dataset(cluster_centres, cov_matrices_list, n)\n",
        "\n",
        "# print(cluster_centres)\n",
        "# print()\n",
        "# print(cov_matrices_list)\n",
        "# print()\n",
        "# print(x_features)\n",
        "# print()\n",
        "# print(y_labels)"
      ],
      "metadata": {
        "id": "XT4SlXqa291E"
      },
      "execution_count": null,
      "outputs": []
    },
    {
      "cell_type": "code",
      "source": [
        "#Data preprocessing\n",
        "x_training_data = x_features\n",
        "y_training_label = y_labels"
      ],
      "metadata": {
        "id": "fZgMHkdz6KPf"
      },
      "execution_count": null,
      "outputs": []
    },
    {
      "cell_type": "code",
      "source": [
        "#NN\n",
        "from sklearn.neural_network import MLPClassifier\n",
        "from sklearn.model_selection import train_test_split\n",
        "\n",
        "X_train, X_test, y_train, y_test = train_test_split(x_training_data, y_training_label, random_state=42, test_size=0.3)\n",
        "nn_class = MLPClassifier(random_state=42, max_iter=10000, tol=1e-5, warm_start=True, early_stopping=True)\n",
        "nn_class.out_activation_ = 'softmax'\n",
        "nn_class.fit(X_train, y_train)\n",
        "#print(X_test)\n",
        "print(nn_class.predict(X_test[:60]))\n",
        "print(y_test[:60])\n",
        "# print(nn_class.predict_proba(X_test[:10]))\n",
        "nn_class.score(X_test, y_test)"
      ],
      "metadata": {
        "colab": {
          "base_uri": "https://localhost:8080/"
        },
        "id": "g_rON4o03BBk",
        "outputId": "716a1578-82d0-47a3-ca49-29ea07d27af0"
      },
      "execution_count": null,
      "outputs": [
        {
          "output_type": "stream",
          "name": "stdout",
          "text": [
            "[3 0 2 0 7 9 4 6 6 4 4 5 8 9 0 3 7 7 2 6 7 8 2 6 3 4 3 6 7 0 6 7 4 1 9 2 9\n",
            " 2 0 0 0 3 8 4 2 5 7 7 1 0 0 4 1 9 2 3 7 6 3 8]\n",
            "[3 0 2 0 4 9 4 6 6 4 4 5 8 9 0 3 7 7 2 6 7 8 2 6 3 4 3 6 7 0 6 7 4 1 9 2 9\n",
            " 2 0 0 0 3 8 4 2 5 7 7 1 0 0 4 1 9 2 8 7 6 3 8]\n"
          ]
        },
        {
          "output_type": "execute_result",
          "data": {
            "text/plain": [
              "0.9128333333333334"
            ]
          },
          "metadata": {},
          "execution_count": 42
        }
      ]
    }
  ]
}
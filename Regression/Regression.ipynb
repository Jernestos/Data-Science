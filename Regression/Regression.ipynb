{
  "nbformat": 4,
  "nbformat_minor": 0,
  "metadata": {
    "colab": {
      "name": "Regression.ipynb",
      "provenance": []
    },
    "kernelspec": {
      "name": "python3",
      "display_name": "Python 3"
    },
    "language_info": {
      "name": "python"
    }
  },
  "cells": [
    {
      "cell_type": "code",
      "source": [
        "#Import libraries\n",
        "import numpy as np\n",
        "from numpy import random\n",
        "import math\n",
        "\n",
        "#ignore warnings about almost ill-conditioned matrices\n",
        "import warnings\n",
        "warnings.filterwarnings('ignore') "
      ],
      "metadata": {
        "id": "kefFZZqyqSTw"
      },
      "execution_count": 2,
      "outputs": []
    },
    {
      "cell_type": "code",
      "source": [
        "#Generate dataset\n",
        "\n",
        "n = 25 #datapoints\n",
        "d = 4 #features\n",
        "x_true = random.normal(size=(n,d), scale=math.pi*2)\n",
        "coef = random.normal(size=(6*d), scale=math.pi*2)\n",
        "\n",
        "def label_computation(arr):\n",
        "  poly = np.dot(arr, coef[:d]) + np.dot(arr**2, coef[d:2*d]) + np.dot(arr**3, coef[2*d:3*d])\n",
        "  trig = np.dot(np.sin(arr), coef[3*d:4*d]) + np.dot(np.cos(arr), coef[4*d:5*d])\n",
        "  exp = np.dot(np.exp(arr), coef[5*d:6*d])\n",
        "  epsilon = random.normal(scale=100) #random perturbation\n",
        "  return poly + trig + exp + epsilon\n",
        "\n",
        "y_labels = np.apply_along_axis(label_computation, 1, x_true)"
      ],
      "metadata": {
        "id": "hkZAqHDVqSKM"
      },
      "execution_count": 21,
      "outputs": []
    },
    {
      "cell_type": "code",
      "source": [
        "#Data preprocessing\n",
        "x_training_data = x_true\n",
        "y_training_label = y_labels\n",
        "\n",
        "def non_linear_transformation(arr):\n",
        "  poly = np.append(np.append(np.append(arr, np.append(arr**2, arr**3)), arr**4), arr**5)\n",
        "  trig = np.append(np.append(np.append(np.sin(arr), np.cos(arr)), np.append(np.sin(arr) * np.sin(arr), np.cos(arr) * np.cos(arr))), np.cos(arr)*np.sin(arr))\n",
        "  exp = np.append(np.exp(arr), np.exp(-arr))\n",
        "  return np.append(poly, np.append(trig, exp))\n",
        "\n",
        "x_matrix_training_transformed = np.apply_along_axis(non_linear_transformation, axis=1, arr=x_training_data)"
      ],
      "metadata": {
        "id": "33lz7kGhqRX4"
      },
      "execution_count": 22,
      "outputs": []
    },
    {
      "cell_type": "code",
      "source": [
        "#Linear model\n",
        "from sklearn import linear_model\n",
        "\n",
        "lin_reg = linear_model.LinearRegression()\n",
        "lin_reg.fit(x_matrix_training_transformed, y_training_label)\n",
        "\n",
        "# print(\"Computed coefs: \")\n",
        "# print(lin_reg.coef_)\n",
        "# print()\n",
        "# print(\"Actual coefs: \")\n",
        "# print(coef)"
      ],
      "metadata": {
        "colab": {
          "base_uri": "https://localhost:8080/"
        },
        "id": "0r8T0gOSqRKm",
        "outputId": "56469f16-de4c-41f7-aa85-97ed7ed2d8cd"
      },
      "execution_count": 23,
      "outputs": [
        {
          "output_type": "execute_result",
          "data": {
            "text/plain": [
              "LinearRegression()"
            ]
          },
          "metadata": {},
          "execution_count": 23
        }
      ]
    },
    {
      "cell_type": "code",
      "source": [
        "#Ridge reg\n",
        "from sklearn.linear_model import Ridge\n",
        "\n",
        "ridge_reg = Ridge(alpha=1)\n",
        "ridge_reg.fit(x_matrix_training_transformed, y_training_label)\n",
        "# print(\"Computed coefs: \")\n",
        "# print(ridge_reg.coef_)\n",
        "# print()\n",
        "# print(\"Actual coefs: \")\n",
        "# print(coef)"
      ],
      "metadata": {
        "colab": {
          "base_uri": "https://localhost:8080/"
        },
        "id": "d4oAH1JdqQrz",
        "outputId": "00f61ae9-9038-45bd-d04c-85b9ffdbd9aa"
      },
      "execution_count": 24,
      "outputs": [
        {
          "output_type": "execute_result",
          "data": {
            "text/plain": [
              "Ridge(alpha=1)"
            ]
          },
          "metadata": {},
          "execution_count": 24
        }
      ]
    },
    {
      "cell_type": "code",
      "execution_count": 25,
      "metadata": {
        "id": "Wx7Cf-a8Pgpi"
      },
      "outputs": [],
      "source": [
        "#ridge reg model with cross valid\n",
        "from sklearn.linear_model import RidgeCV\n",
        "ridge_reg_cv = RidgeCV(alphas=[1e-4, 1e-3, 1e-2, 1e-1, 1, 10], cv=10).fit(x_matrix_training_transformed, y_training_label)\n",
        "# print(\"Computed coefs: \")\n",
        "# print(ridge_reg_cv.coef_)\n",
        "# print()\n",
        "# print(\"Actual coefs: \")\n",
        "# print(coef)\n"
      ]
    },
    {
      "cell_type": "code",
      "source": [
        "#Generate test data\n",
        "x_test = random.normal(size=(n,d), scale=math.pi*10)\n",
        "x_matrix_test_transformed = np.apply_along_axis(non_linear_transformation, axis=1, arr=x_test)\n",
        "\n",
        "def true_label_computation(arr):\n",
        "  poly = np.dot(arr, coef[:d]) + np.dot(arr**2, coef[d:2*d]) + np.dot(arr**3, coef[2*d:3*d])\n",
        "  trig = np.dot(np.sin(arr), coef[3*d:4*d]) + np.dot(np.cos(arr), coef[4*d:5*d])\n",
        "  exp = np.dot(np.exp(arr), coef[5*d:6*d])\n",
        "  return poly + trig + exp\n",
        "\n",
        "y_test = np.apply_along_axis(true_label_computation, 1, x_test)\n",
        "\n",
        "# print(y_test)\n",
        "# print()\n",
        "# print(lin_reg.predict(x_matrix_test_transformed))\n",
        "# print()\n",
        "# print(ridge_reg.predict(x_matrix_test_transformed))\n",
        "# print()\n",
        "# print(ridge_reg_cv.predict(x_matrix_test_transformed))\n",
        "print(\"Linear regression score: \" + str(lin_reg.score(x_matrix_test_transformed, y_test)))\n",
        "print(\"Ridge regression (without CV) score: \" + str(ridge_reg.score(x_matrix_test_transformed, y_test)))\n",
        "print(\"Ridge regression with CV score: \" + str(ridge_reg_cv.score(x_matrix_test_transformed, y_test)))"
      ],
      "metadata": {
        "colab": {
          "base_uri": "https://localhost:8080/"
        },
        "id": "uhnRa88bl5wI",
        "outputId": "18765605-ae88-4e39-cf15-6bb0466038e3"
      },
      "execution_count": 26,
      "outputs": [
        {
          "output_type": "stream",
          "name": "stdout",
          "text": [
            "Linear regression score: 0.9985996921714243\n",
            "Ridge regression (without CV) score: 0.9986185130398241\n",
            "Ridge regression with CV score: 0.9986793599943817\n"
          ]
        }
      ]
    }
  ]
}
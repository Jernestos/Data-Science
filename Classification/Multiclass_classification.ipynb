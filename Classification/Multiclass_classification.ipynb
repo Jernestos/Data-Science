{
  "nbformat": 4,
  "nbformat_minor": 0,
  "metadata": {
    "colab": {
      "name": "Multiclass classification.ipynb",
      "provenance": []
    },
    "kernelspec": {
      "name": "python3",
      "display_name": "Python 3"
    },
    "language_info": {
      "name": "python"
    }
  },
  "cells": [
    {
      "cell_type": "code",
      "execution_count": 130,
      "metadata": {
        "id": "WhJ88YbzwrZL"
      },
      "outputs": [],
      "source": [
        "#import libaries\n",
        "import numpy as np\n",
        "from numpy import random\n",
        "import math\n",
        "\n",
        "#ignore warnings about almost ill-conditioned matrices\n",
        "import warnings\n",
        "warnings.filterwarnings('ignore') "
      ]
    },
    {
      "cell_type": "code",
      "source": [
        "#Aux methods:\n",
        "def is_pos_def(x):\n",
        "    return np.all(np.linalg.eigvals(x) > 0)\n",
        "\n",
        "def check_all_matrices(x):\n",
        "  b = True\n",
        "  for m in x:\n",
        "    b = b and is_pos_def(m)\n",
        "    if not b: return False\n",
        "  return b"
      ],
      "metadata": {
        "id": "5CFEerkWUMCz"
      },
      "execution_count": 131,
      "outputs": []
    },
    {
      "cell_type": "code",
      "source": [
        "#generate dataset\n",
        "n = 100 #datapoints\n",
        "d = 3 #dimensions\n",
        "c = 10 #number of clusters\n",
        "\n",
        "def create_cov_matrices(cov_list):\n",
        "  for m in cov_list:\n",
        "    np.fill_diagonal(m, abs(random.normal(size=(d), scale=spread_of_cluster_centre)))\n",
        "\n",
        "def generate_dataset(mean_list, cov_list, n):\n",
        "  x_features = []\n",
        "  y_labels = random.choice(c, n)\n",
        "  for i in range(n):\n",
        "    rand_c = y_labels[i]\n",
        "    mean = mean_list[rand_c]\n",
        "    cov = cov_list[rand_c]\n",
        "    datapoint = np.random.multivariate_normal(mean,cov,(1))\n",
        "    [datapoint] = datapoint\n",
        "    x_features.append(datapoint)\n",
        "  x_features = np.array(x_features)\n",
        "  return (x_features, y_labels)\n",
        "\n",
        "spread_of_cluster_centre = math.pi * 3\n",
        "spread_around_clusters = math.pi * 3\n",
        "cluster_centres = random.normal(size=(c,d), scale=spread_of_cluster_centre, loc=random.normal(spread_around_clusters))\n",
        "print(cluster_centres)\n",
        "\n",
        "temp = []\n",
        "for c_i in range(c):\n",
        "  temp.append(np.zeros((d,d), float))\n",
        "cov_matrices_list = np.array(temp)\n",
        "# z = np.zeros((d,d), float)\n",
        "# cov_matrices_list = np.repeat(z[:, :, np.newaxis], c, axis=2)\n",
        "# print(cov_matrices_list)\n",
        "create_cov_matrices(cov_matrices_list)\n",
        "\n",
        "# print(check_all_matrices(cov_matrices_list))\n",
        "x_features, y_labels = generate_dataset(cluster_centres, cov_matrices_list, n)\n",
        "\n",
        "# print(cluster_centres)\n",
        "# print()\n",
        "# print(cov_matrices_list)\n",
        "# print()\n",
        "# print(x_features)\n",
        "# print()\n",
        "# print(y_labels)\n",
        "\n"
      ],
      "metadata": {
        "colab": {
          "base_uri": "https://localhost:8080/"
        },
        "id": "EakW5LlawwQo",
        "outputId": "d3ea377b-b7ff-4fc6-9a82-5da0f2232bef"
      },
      "execution_count": 132,
      "outputs": [
        {
          "output_type": "stream",
          "name": "stdout",
          "text": [
            "[[ 7.03759781 12.26858741 17.78002088]\n",
            " [13.15635891 13.71212604 18.27365551]\n",
            " [25.26178764 18.88502428  4.10873306]\n",
            " [30.8925023  12.07991752  2.38026208]\n",
            " [26.50494674 12.56332633 18.0363759 ]\n",
            " [13.470723    7.56398519 12.28781495]\n",
            " [17.14014492 10.73750889 -2.55976731]\n",
            " [-4.68607654  5.95847455 19.12726913]\n",
            " [17.49920746  0.33686929  4.2260267 ]\n",
            " [ 9.28390477 17.77847638 13.57408896]]\n"
          ]
        }
      ]
    },
    {
      "cell_type": "code",
      "source": [
        "#Generate test set\n",
        "x_features_test, y_labels_test = generate_dataset(cluster_centres, cov_matrices_list, n)"
      ],
      "metadata": {
        "id": "SZr8To_Whryd"
      },
      "execution_count": 133,
      "outputs": []
    },
    {
      "cell_type": "code",
      "source": [
        "#OvA classifier\n",
        "from sklearn.multiclass import OneVsRestClassifier\n",
        "from sklearn.svm import SVC\n",
        "\n",
        "ova_classifier = OneVsRestClassifier(SVC()).fit(x_features, y_labels)\n",
        "print(ova_classifier.score(x_features_test, y_labels_test))\n",
        "print(y_labels_test == ova_classifier.predict(x_features_test))"
      ],
      "metadata": {
        "colab": {
          "base_uri": "https://localhost:8080/"
        },
        "id": "YwHHHWjNwwr9",
        "outputId": "a8eb4f6c-db51-4740-a60e-6dfcdf80f28a"
      },
      "execution_count": 134,
      "outputs": [
        {
          "output_type": "stream",
          "name": "stdout",
          "text": [
            "0.86\n",
            "[ True  True  True  True  True False  True  True  True  True  True  True\n",
            " False  True  True  True  True  True  True  True  True  True  True  True\n",
            "  True  True  True  True  True False  True  True  True False  True  True\n",
            "  True  True  True  True  True  True  True  True  True  True  True False\n",
            "  True  True  True  True False  True False False  True  True  True  True\n",
            "  True  True False  True  True  True  True  True  True  True  True  True\n",
            "  True  True  True  True  True  True False  True  True  True False  True\n",
            "  True  True False  True  True  True  True False  True  True  True False\n",
            "  True  True  True  True]\n"
          ]
        }
      ]
    },
    {
      "cell_type": "code",
      "source": [
        "#OvO classifier\n",
        "from sklearn.model_selection import train_test_split\n",
        "from sklearn.multiclass import OneVsOneClassifier\n",
        "from sklearn.svm import LinearSVC\n",
        "X_train, X_test, y_train, y_test = train_test_split(\n",
        "    x_features, y_labels, test_size=0.33, shuffle=True, random_state=42)\n",
        "ovo_classifier = OneVsOneClassifier(\n",
        "    LinearSVC(random_state=42)).fit(X_train, y_train)\n",
        "print(ovo_classifier.score(x_features_test, y_labels_test))\n",
        "print(y_labels_test == ovo_classifier.predict(x_features_test))"
      ],
      "metadata": {
        "colab": {
          "base_uri": "https://localhost:8080/"
        },
        "id": "CcmVmrpig-70",
        "outputId": "748cf55e-93bd-46cb-f751-828495ce900c"
      },
      "execution_count": 135,
      "outputs": [
        {
          "output_type": "stream",
          "name": "stdout",
          "text": [
            "0.81\n",
            "[ True  True  True  True  True  True  True  True  True  True False  True\n",
            " False  True  True  True  True  True  True  True  True False  True  True\n",
            "  True  True  True  True  True  True  True  True  True False  True  True\n",
            "  True False  True  True False  True False  True  True  True  True  True\n",
            "  True  True  True  True False  True  True False  True  True False  True\n",
            "  True False False  True  True  True  True  True  True  True  True False\n",
            "  True  True  True  True  True  True False  True  True  True False  True\n",
            "  True  True False  True  True False  True  True  True  True  True False\n",
            "  True  True False  True]\n"
          ]
        }
      ]
    }
  ]
}